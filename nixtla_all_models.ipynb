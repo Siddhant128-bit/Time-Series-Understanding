{
 "cells": [
  {
   "cell_type": "markdown",
   "id": "dd021f04",
   "metadata": {},
   "source": [
    "<h1 align='center'> Time Series Experiments </h1>\n",
    "\n",
    "In this notebook with the help of nixtla we will implement all the models we have discussed about on our previous documents.\n"
   ]
  }
 ],
 "metadata": {
  "language_info": {
   "name": "python"
  }
 },
 "nbformat": 4,
 "nbformat_minor": 5
}
